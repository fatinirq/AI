{
  "cells": [
    {
      "cell_type": "markdown",
      "metadata": {
        "id": "view-in-github",
        "colab_type": "text"
      },
      "source": [
        "<a href=\"https://colab.research.google.com/github/fatinirq/AI/blob/main/LDA_PreparingData.ipynb\" target=\"_parent\"><img src=\"https://colab.research.google.com/assets/colab-badge.svg\" alt=\"Open In Colab\"/></a>"
      ]
    },
    {
      "cell_type": "code",
      "execution_count": null,
      "metadata": {
        "colab": {
          "base_uri": "https://localhost:8080/"
        },
        "id": "Jk5qy46eBgD8",
        "outputId": "e9ef5eb1-4e8f-4727-ed70-2281ad72a9ce"
      },
      "outputs": [
        {
          "name": "stdout",
          "output_type": "stream",
          "text": [
            "Mounted at /content/drive\n"
          ]
        }
      ],
      "source": [
        "from google.colab import drive\n",
        "drive.mount('/content/drive')"
      ]
    },
    {
      "cell_type": "code",
      "execution_count": null,
      "metadata": {
        "id": "D57XtxXnBR8I"
      },
      "outputs": [],
      "source": [
        "import json\n",
        "import pandas as pd\n",
        "from sklearn.model_selection import train_test_split\n",
        "\n",
        "# Opening JSON file\n",
        "\n",
        "# returns JSON object as\n",
        "# a dictionary\n",
        "data = [json.loads(line) for line in open('/content/drive/My Drive/SpoilerData/goodreads_reviews_spoiler.json', 'r')]\n",
        "df=pd.DataFrame(data)\n"
      ]
    },
    {
      "cell_type": "code",
      "execution_count": null,
      "metadata": {
        "colab": {
          "base_uri": "https://localhost:8080/",
          "height": 206
        },
        "id": "tFEdjI1hBsV5",
        "outputId": "125ddfbd-ba4c-4925-8ba3-b5f54a69fda1"
      },
      "outputs": [
        {
          "data": {
            "text/html": [
              "\n",
              "  <div id=\"df-4e93c775-559a-4537-a256-e1353421f5b7\">\n",
              "    <div class=\"colab-df-container\">\n",
              "      <div>\n",
              "<style scoped>\n",
              "    .dataframe tbody tr th:only-of-type {\n",
              "        vertical-align: middle;\n",
              "    }\n",
              "\n",
              "    .dataframe tbody tr th {\n",
              "        vertical-align: top;\n",
              "    }\n",
              "\n",
              "    .dataframe thead th {\n",
              "        text-align: right;\n",
              "    }\n",
              "</style>\n",
              "<table border=\"1\" class=\"dataframe\">\n",
              "  <thead>\n",
              "    <tr style=\"text-align: right;\">\n",
              "      <th></th>\n",
              "      <th>user_id</th>\n",
              "      <th>timestamp</th>\n",
              "      <th>review_sentences</th>\n",
              "      <th>rating</th>\n",
              "      <th>has_spoiler</th>\n",
              "      <th>book_id</th>\n",
              "      <th>review_id</th>\n",
              "    </tr>\n",
              "  </thead>\n",
              "  <tbody>\n",
              "    <tr>\n",
              "      <th>0</th>\n",
              "      <td>8842281e1d1347389f2ab93d60773d4d</td>\n",
              "      <td>2017-08-30</td>\n",
              "      <td>[[0, This is a special book.], [0, It started ...</td>\n",
              "      <td>5</td>\n",
              "      <td>True</td>\n",
              "      <td>18245960</td>\n",
              "      <td>dfdbb7b0eb5a7e4c26d59a937e2e5feb</td>\n",
              "    </tr>\n",
              "    <tr>\n",
              "      <th>1</th>\n",
              "      <td>8842281e1d1347389f2ab93d60773d4d</td>\n",
              "      <td>2017-03-22</td>\n",
              "      <td>[[0, Recommended by Don Katz.], [0, Avail for ...</td>\n",
              "      <td>3</td>\n",
              "      <td>False</td>\n",
              "      <td>16981</td>\n",
              "      <td>a5d2c3628987712d0e05c4f90798eb67</td>\n",
              "    </tr>\n",
              "    <tr>\n",
              "      <th>2</th>\n",
              "      <td>8842281e1d1347389f2ab93d60773d4d</td>\n",
              "      <td>2017-03-20</td>\n",
              "      <td>[[0, A fun, fast paced science fiction thrille...</td>\n",
              "      <td>3</td>\n",
              "      <td>True</td>\n",
              "      <td>28684704</td>\n",
              "      <td>2ede853b14dc4583f96cf5d120af636f</td>\n",
              "    </tr>\n",
              "    <tr>\n",
              "      <th>3</th>\n",
              "      <td>8842281e1d1347389f2ab93d60773d4d</td>\n",
              "      <td>2016-11-09</td>\n",
              "      <td>[[0, Recommended reading to understand what is...</td>\n",
              "      <td>0</td>\n",
              "      <td>False</td>\n",
              "      <td>27161156</td>\n",
              "      <td>ced5675e55cd9d38a524743f5c40996e</td>\n",
              "    </tr>\n",
              "    <tr>\n",
              "      <th>4</th>\n",
              "      <td>8842281e1d1347389f2ab93d60773d4d</td>\n",
              "      <td>2016-04-25</td>\n",
              "      <td>[[0, I really enjoyed this book, and there is ...</td>\n",
              "      <td>4</td>\n",
              "      <td>True</td>\n",
              "      <td>25884323</td>\n",
              "      <td>332732725863131279a8e345b63ac33e</td>\n",
              "    </tr>\n",
              "  </tbody>\n",
              "</table>\n",
              "</div>\n",
              "      <button class=\"colab-df-convert\" onclick=\"convertToInteractive('df-4e93c775-559a-4537-a256-e1353421f5b7')\"\n",
              "              title=\"Convert this dataframe to an interactive table.\"\n",
              "              style=\"display:none;\">\n",
              "        \n",
              "  <svg xmlns=\"http://www.w3.org/2000/svg\" height=\"24px\"viewBox=\"0 0 24 24\"\n",
              "       width=\"24px\">\n",
              "    <path d=\"M0 0h24v24H0V0z\" fill=\"none\"/>\n",
              "    <path d=\"M18.56 5.44l.94 2.06.94-2.06 2.06-.94-2.06-.94-.94-2.06-.94 2.06-2.06.94zm-11 1L8.5 8.5l.94-2.06 2.06-.94-2.06-.94L8.5 2.5l-.94 2.06-2.06.94zm10 10l.94 2.06.94-2.06 2.06-.94-2.06-.94-.94-2.06-.94 2.06-2.06.94z\"/><path d=\"M17.41 7.96l-1.37-1.37c-.4-.4-.92-.59-1.43-.59-.52 0-1.04.2-1.43.59L10.3 9.45l-7.72 7.72c-.78.78-.78 2.05 0 2.83L4 21.41c.39.39.9.59 1.41.59.51 0 1.02-.2 1.41-.59l7.78-7.78 2.81-2.81c.8-.78.8-2.07 0-2.86zM5.41 20L4 18.59l7.72-7.72 1.47 1.35L5.41 20z\"/>\n",
              "  </svg>\n",
              "      </button>\n",
              "      \n",
              "  <style>\n",
              "    .colab-df-container {\n",
              "      display:flex;\n",
              "      flex-wrap:wrap;\n",
              "      gap: 12px;\n",
              "    }\n",
              "\n",
              "    .colab-df-convert {\n",
              "      background-color: #E8F0FE;\n",
              "      border: none;\n",
              "      border-radius: 50%;\n",
              "      cursor: pointer;\n",
              "      display: none;\n",
              "      fill: #1967D2;\n",
              "      height: 32px;\n",
              "      padding: 0 0 0 0;\n",
              "      width: 32px;\n",
              "    }\n",
              "\n",
              "    .colab-df-convert:hover {\n",
              "      background-color: #E2EBFA;\n",
              "      box-shadow: 0px 1px 2px rgba(60, 64, 67, 0.3), 0px 1px 3px 1px rgba(60, 64, 67, 0.15);\n",
              "      fill: #174EA6;\n",
              "    }\n",
              "\n",
              "    [theme=dark] .colab-df-convert {\n",
              "      background-color: #3B4455;\n",
              "      fill: #D2E3FC;\n",
              "    }\n",
              "\n",
              "    [theme=dark] .colab-df-convert:hover {\n",
              "      background-color: #434B5C;\n",
              "      box-shadow: 0px 1px 3px 1px rgba(0, 0, 0, 0.15);\n",
              "      filter: drop-shadow(0px 1px 2px rgba(0, 0, 0, 0.3));\n",
              "      fill: #FFFFFF;\n",
              "    }\n",
              "  </style>\n",
              "\n",
              "      <script>\n",
              "        const buttonEl =\n",
              "          document.querySelector('#df-4e93c775-559a-4537-a256-e1353421f5b7 button.colab-df-convert');\n",
              "        buttonEl.style.display =\n",
              "          google.colab.kernel.accessAllowed ? 'block' : 'none';\n",
              "\n",
              "        async function convertToInteractive(key) {\n",
              "          const element = document.querySelector('#df-4e93c775-559a-4537-a256-e1353421f5b7');\n",
              "          const dataTable =\n",
              "            await google.colab.kernel.invokeFunction('convertToInteractive',\n",
              "                                                     [key], {});\n",
              "          if (!dataTable) return;\n",
              "\n",
              "          const docLinkHtml = 'Like what you see? Visit the ' +\n",
              "            '<a target=\"_blank\" href=https://colab.research.google.com/notebooks/data_table.ipynb>data table notebook</a>'\n",
              "            + ' to learn more about interactive tables.';\n",
              "          element.innerHTML = '';\n",
              "          dataTable['output_type'] = 'display_data';\n",
              "          await google.colab.output.renderOutput(dataTable, element);\n",
              "          const docLink = document.createElement('div');\n",
              "          docLink.innerHTML = docLinkHtml;\n",
              "          element.appendChild(docLink);\n",
              "        }\n",
              "      </script>\n",
              "    </div>\n",
              "  </div>\n",
              "  "
            ],
            "text/plain": [
              "                            user_id   timestamp  \\\n",
              "0  8842281e1d1347389f2ab93d60773d4d  2017-08-30   \n",
              "1  8842281e1d1347389f2ab93d60773d4d  2017-03-22   \n",
              "2  8842281e1d1347389f2ab93d60773d4d  2017-03-20   \n",
              "3  8842281e1d1347389f2ab93d60773d4d  2016-11-09   \n",
              "4  8842281e1d1347389f2ab93d60773d4d  2016-04-25   \n",
              "\n",
              "                                    review_sentences  rating  has_spoiler  \\\n",
              "0  [[0, This is a special book.], [0, It started ...       5         True   \n",
              "1  [[0, Recommended by Don Katz.], [0, Avail for ...       3        False   \n",
              "2  [[0, A fun, fast paced science fiction thrille...       3         True   \n",
              "3  [[0, Recommended reading to understand what is...       0        False   \n",
              "4  [[0, I really enjoyed this book, and there is ...       4         True   \n",
              "\n",
              "    book_id                         review_id  \n",
              "0  18245960  dfdbb7b0eb5a7e4c26d59a937e2e5feb  \n",
              "1     16981  a5d2c3628987712d0e05c4f90798eb67  \n",
              "2  28684704  2ede853b14dc4583f96cf5d120af636f  \n",
              "3  27161156  ced5675e55cd9d38a524743f5c40996e  \n",
              "4  25884323  332732725863131279a8e345b63ac33e  "
            ]
          },
          "execution_count": 6,
          "metadata": {},
          "output_type": "execute_result"
        }
      ],
      "source": [
        "df.head()"
      ]
    },
    {
      "cell_type": "code",
      "execution_count": null,
      "metadata": {
        "id": "f7Mu9ztpCWr_"
      },
      "outputs": [],
      "source": [
        "reviews=df.copy()\n"
      ]
    },
    {
      "cell_type": "code",
      "execution_count": null,
      "metadata": {
        "colab": {
          "base_uri": "https://localhost:8080/",
          "height": 35
        },
        "id": "wjbaW5rQCcvz",
        "outputId": "45347bb5-3bbc-4bc1-d5f6-2486c6619466"
      },
      "outputs": [
        {
          "data": {
            "application/vnd.google.colaboratory.intrinsic+json": {
              "type": "string"
            },
            "text/plain": [
              "\"A fun fast paced book that sucks you in right away and doesn't let go.\""
            ]
          },
          "execution_count": 8,
          "metadata": {},
          "output_type": "execute_result"
        }
      ],
      "source": [
        "reviews['review_sentences'][20][0][1]\n",
        "#type(reviews['review_sentences'][20])"
      ]
    },
    {
      "cell_type": "code",
      "execution_count": null,
      "metadata": {
        "colab": {
          "base_uri": "https://localhost:8080/"
        },
        "id": "O0UXLR5kC74N",
        "outputId": "b796ca84-b9e8-4a13-d079-751d15760666"
      },
      "outputs": [
        {
          "name": "stdout",
          "output_type": "stream",
          "text": [
            "hello\n"
          ]
        },
        {
          "name": "stderr",
          "output_type": "stream",
          "text": [
            "[nltk_data] Downloading package stopwords to /root/nltk_data...\n",
            "[nltk_data]   Unzipping corpora/stopwords.zip.\n"
          ]
        }
      ],
      "source": [
        "import nltk\n",
        "import re\n",
        "nltk.download('stopwords')\n",
        "from nltk.corpus import stopwords\n",
        "print(\"hello\")"
      ]
    },
    {
      "cell_type": "code",
      "execution_count": null,
      "metadata": {
        "colab": {
          "background_save": true,
          "base_uri": "https://localhost:8080/"
        },
        "id": "n773CG8TDCb8",
        "outputId": "2fbc4653-d30d-44ff-9e1a-53ac3ea1e8d9"
      },
      "outputs": [
        {
          "name": "stderr",
          "output_type": "stream",
          "text": [
            "[nltk_data] Downloading package wordnet to /root/nltk_data...\n",
            "[nltk_data] Downloading package omw-1.4 to /root/nltk_data...\n"
          ]
        },
        {
          "name": "stdout",
          "output_type": "stream",
          "text": [
            "corpus 1\n",
            "corpus 2\n"
          ]
        }
      ],
      "source": [
        "\n",
        "from nltk.stem.porter import PorterStemmer\n",
        "from nltk.stem import WordNetLemmatizer\n",
        "nltk.download('wordnet')\n",
        "nltk.download('omw-1.4')\n",
        "lm = WordNetLemmatizer()\n",
        "ps = PorterStemmer()\n",
        "corpus = []\n",
        "corpus2=[]\n",
        "corpus3=[]\n",
        "corpus_review_id=[]\n",
        "corpus_spoiled=[]\n",
        "\n",
        "print(\"corpus 1\")\n",
        "for i in range(0, len(reviews)):\n",
        "\n",
        "    temp=\"\"\n",
        "    for j in range(0,len(reviews['review_sentences'][i])):\n",
        "        review = re.sub('[^a-zA-Z]', ' ', reviews['review_sentences'][i][j][1])\n",
        "        review = review.lower()\n",
        "        review = review.split()\n",
        "\n",
        "        review = [lm.lemmatize(word) for word in review if not word in stopwords.words('english')]\n",
        "        #review = ' '.join(review)\n",
        "        #temp=review+' '+temp\n",
        "        corpus.append(review)\n",
        "        corpus_spoiled.append(reviews['review_sentences'][i][j][0])\n",
        "        corpus_review_id.append(reviews['review_id'][i])\n",
        "\n",
        "\n",
        "print(\"corpus 2\")"
      ]
    },
    {
      "cell_type": "code",
      "execution_count": null,
      "metadata": {
        "colab": {
          "background_save": true
        },
        "id": "RhYF-YTJDkWw"
      },
      "outputs": [],
      "source": [
        "reviews=pd.DataFrame()"
      ]
    },
    {
      "cell_type": "code",
      "execution_count": null,
      "metadata": {
        "colab": {
          "background_save": true
        },
        "id": "tItq9Rb9Dow-"
      },
      "outputs": [],
      "source": [
        "del df"
      ]
    },
    {
      "cell_type": "code",
      "execution_count": null,
      "metadata": {
        "id": "_rVUzqzhDvHD"
      },
      "outputs": [],
      "source": [
        "reviews['review_sentence']=corpus\n",
        "reviews['spoiled']=corpus_spoiled\n",
        "reviews['review_id']=corpus_review_id"
      ]
    },
    {
      "cell_type": "code",
      "execution_count": null,
      "metadata": {
        "id": "225f15gbD9BR"
      },
      "outputs": [],
      "source": [
        "reviews.head()"
      ]
    },
    {
      "cell_type": "code",
      "execution_count": null,
      "metadata": {
        "id": "0qJVjaSMD-TP"
      },
      "outputs": [],
      "source": [
        "reviews.to_csv('/content/drive/My Drive/SpoilerData2/CData.csv', index=False)\n",
        "reviews.to_json('/content/drive/My Drive/SpoilerData2/CData.json',orient='records',lines=True)\n"
      ]
    }
  ],
  "metadata": {
    "colab": {
      "machine_shape": "hm",
      "provenance": [],
      "authorship_tag": "ABX9TyO7mtccOxBBNKKKNFP4r8zd",
      "include_colab_link": true
    },
    "gpuClass": "standard",
    "kernelspec": {
      "display_name": "Python 3",
      "name": "python3"
    },
    "language_info": {
      "name": "python"
    }
  },
  "nbformat": 4,
  "nbformat_minor": 0
}